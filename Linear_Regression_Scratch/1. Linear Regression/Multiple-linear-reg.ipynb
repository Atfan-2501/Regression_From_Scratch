{
 "cells": [
  {
   "cell_type": "code",
   "execution_count": 3,
   "metadata": {},
   "outputs": [],
   "source": [
    "import pandas as pd\n",
    "import numpy as np\n",
    "import matplotlib as mp\n",
    "import matplotlib.pyplot as plt\n",
    "%matplotlib inline"
   ]
  },
  {
   "cell_type": "code",
   "execution_count": 38,
   "metadata": {},
   "outputs": [],
   "source": [
    "df1 = pd.read_csv(\"C:/Users/2068671/OneDrive - Cognizant/Desktop/Datasets/Automobile_data.csv\")"
   ]
  },
  {
   "cell_type": "code",
   "execution_count": 39,
   "metadata": {},
   "outputs": [
    {
     "data": {
      "text/html": [
       "<div>\n",
       "<style scoped>\n",
       "    .dataframe tbody tr th:only-of-type {\n",
       "        vertical-align: middle;\n",
       "    }\n",
       "\n",
       "    .dataframe tbody tr th {\n",
       "        vertical-align: top;\n",
       "    }\n",
       "\n",
       "    .dataframe thead th {\n",
       "        text-align: right;\n",
       "    }\n",
       "</style>\n",
       "<table border=\"1\" class=\"dataframe\">\n",
       "  <thead>\n",
       "    <tr style=\"text-align: right;\">\n",
       "      <th></th>\n",
       "      <th>index</th>\n",
       "      <th>company</th>\n",
       "      <th>body-style</th>\n",
       "      <th>wheel-base</th>\n",
       "      <th>length</th>\n",
       "      <th>engine-type</th>\n",
       "      <th>num-of-cylinders</th>\n",
       "      <th>horsepower</th>\n",
       "      <th>average-mileage</th>\n",
       "      <th>price</th>\n",
       "    </tr>\n",
       "  </thead>\n",
       "  <tbody>\n",
       "    <tr>\n",
       "      <th>0</th>\n",
       "      <td>0</td>\n",
       "      <td>alfa-romero</td>\n",
       "      <td>convertible</td>\n",
       "      <td>88.6</td>\n",
       "      <td>168.8</td>\n",
       "      <td>dohc</td>\n",
       "      <td>four</td>\n",
       "      <td>111</td>\n",
       "      <td>21</td>\n",
       "      <td>13495.0</td>\n",
       "    </tr>\n",
       "    <tr>\n",
       "      <th>1</th>\n",
       "      <td>1</td>\n",
       "      <td>alfa-romero</td>\n",
       "      <td>convertible</td>\n",
       "      <td>88.6</td>\n",
       "      <td>168.8</td>\n",
       "      <td>dohc</td>\n",
       "      <td>four</td>\n",
       "      <td>111</td>\n",
       "      <td>21</td>\n",
       "      <td>16500.0</td>\n",
       "    </tr>\n",
       "    <tr>\n",
       "      <th>2</th>\n",
       "      <td>2</td>\n",
       "      <td>alfa-romero</td>\n",
       "      <td>hatchback</td>\n",
       "      <td>94.5</td>\n",
       "      <td>171.2</td>\n",
       "      <td>ohcv</td>\n",
       "      <td>six</td>\n",
       "      <td>154</td>\n",
       "      <td>19</td>\n",
       "      <td>16500.0</td>\n",
       "    </tr>\n",
       "    <tr>\n",
       "      <th>3</th>\n",
       "      <td>3</td>\n",
       "      <td>audi</td>\n",
       "      <td>sedan</td>\n",
       "      <td>99.8</td>\n",
       "      <td>176.6</td>\n",
       "      <td>ohc</td>\n",
       "      <td>four</td>\n",
       "      <td>102</td>\n",
       "      <td>24</td>\n",
       "      <td>13950.0</td>\n",
       "    </tr>\n",
       "    <tr>\n",
       "      <th>4</th>\n",
       "      <td>4</td>\n",
       "      <td>audi</td>\n",
       "      <td>sedan</td>\n",
       "      <td>99.4</td>\n",
       "      <td>176.6</td>\n",
       "      <td>ohc</td>\n",
       "      <td>five</td>\n",
       "      <td>115</td>\n",
       "      <td>18</td>\n",
       "      <td>17450.0</td>\n",
       "    </tr>\n",
       "  </tbody>\n",
       "</table>\n",
       "</div>"
      ],
      "text/plain": [
       "   index      company   body-style  wheel-base  length engine-type  \\\n",
       "0      0  alfa-romero  convertible        88.6   168.8        dohc   \n",
       "1      1  alfa-romero  convertible        88.6   168.8        dohc   \n",
       "2      2  alfa-romero    hatchback        94.5   171.2        ohcv   \n",
       "3      3         audi        sedan        99.8   176.6         ohc   \n",
       "4      4         audi        sedan        99.4   176.6         ohc   \n",
       "\n",
       "  num-of-cylinders  horsepower  average-mileage    price  \n",
       "0             four         111               21  13495.0  \n",
       "1             four         111               21  16500.0  \n",
       "2              six         154               19  16500.0  \n",
       "3             four         102               24  13950.0  \n",
       "4             five         115               18  17450.0  "
      ]
     },
     "execution_count": 39,
     "metadata": {},
     "output_type": "execute_result"
    }
   ],
   "source": [
    "df1.head()"
   ]
  },
  {
   "cell_type": "code",
   "execution_count": 40,
   "metadata": {},
   "outputs": [
    {
     "data": {
      "text/plain": [
       "index               0\n",
       "company             0\n",
       "body-style          0\n",
       "wheel-base          0\n",
       "length              0\n",
       "engine-type         0\n",
       "num-of-cylinders    0\n",
       "horsepower          0\n",
       "average-mileage     0\n",
       "price               3\n",
       "dtype: int64"
      ]
     },
     "execution_count": 40,
     "metadata": {},
     "output_type": "execute_result"
    }
   ],
   "source": [
    "df1.isnull().sum()"
   ]
  },
  {
   "cell_type": "code",
   "execution_count": 41,
   "metadata": {},
   "outputs": [
    {
     "data": {
      "text/plain": [
       "(61, 10)"
      ]
     },
     "execution_count": 41,
     "metadata": {},
     "output_type": "execute_result"
    }
   ],
   "source": [
    "df1.shape"
   ]
  },
  {
   "cell_type": "code",
   "execution_count": 42,
   "metadata": {},
   "outputs": [],
   "source": [
    "df1.dropna(how = \"any\", axis = 0, inplace= True)"
   ]
  },
  {
   "cell_type": "code",
   "execution_count": 43,
   "metadata": {},
   "outputs": [],
   "source": [
    "from word2number import w2n"
   ]
  },
  {
   "cell_type": "code",
   "execution_count": 44,
   "metadata": {},
   "outputs": [
    {
     "data": {
      "text/html": [
       "<div>\n",
       "<style scoped>\n",
       "    .dataframe tbody tr th:only-of-type {\n",
       "        vertical-align: middle;\n",
       "    }\n",
       "\n",
       "    .dataframe tbody tr th {\n",
       "        vertical-align: top;\n",
       "    }\n",
       "\n",
       "    .dataframe thead th {\n",
       "        text-align: right;\n",
       "    }\n",
       "</style>\n",
       "<table border=\"1\" class=\"dataframe\">\n",
       "  <thead>\n",
       "    <tr style=\"text-align: right;\">\n",
       "      <th></th>\n",
       "      <th>index</th>\n",
       "      <th>company</th>\n",
       "      <th>body-style</th>\n",
       "      <th>wheel-base</th>\n",
       "      <th>length</th>\n",
       "      <th>engine-type</th>\n",
       "      <th>num-of-cylinders</th>\n",
       "      <th>horsepower</th>\n",
       "      <th>average-mileage</th>\n",
       "      <th>price</th>\n",
       "    </tr>\n",
       "  </thead>\n",
       "  <tbody>\n",
       "    <tr>\n",
       "      <th>0</th>\n",
       "      <td>0</td>\n",
       "      <td>alfa-romero</td>\n",
       "      <td>convertible</td>\n",
       "      <td>88.6</td>\n",
       "      <td>168.8</td>\n",
       "      <td>dohc</td>\n",
       "      <td>4</td>\n",
       "      <td>111</td>\n",
       "      <td>21</td>\n",
       "      <td>13495.0</td>\n",
       "    </tr>\n",
       "    <tr>\n",
       "      <th>1</th>\n",
       "      <td>1</td>\n",
       "      <td>alfa-romero</td>\n",
       "      <td>convertible</td>\n",
       "      <td>88.6</td>\n",
       "      <td>168.8</td>\n",
       "      <td>dohc</td>\n",
       "      <td>4</td>\n",
       "      <td>111</td>\n",
       "      <td>21</td>\n",
       "      <td>16500.0</td>\n",
       "    </tr>\n",
       "    <tr>\n",
       "      <th>2</th>\n",
       "      <td>2</td>\n",
       "      <td>alfa-romero</td>\n",
       "      <td>hatchback</td>\n",
       "      <td>94.5</td>\n",
       "      <td>171.2</td>\n",
       "      <td>ohcv</td>\n",
       "      <td>6</td>\n",
       "      <td>154</td>\n",
       "      <td>19</td>\n",
       "      <td>16500.0</td>\n",
       "    </tr>\n",
       "    <tr>\n",
       "      <th>3</th>\n",
       "      <td>3</td>\n",
       "      <td>audi</td>\n",
       "      <td>sedan</td>\n",
       "      <td>99.8</td>\n",
       "      <td>176.6</td>\n",
       "      <td>ohc</td>\n",
       "      <td>4</td>\n",
       "      <td>102</td>\n",
       "      <td>24</td>\n",
       "      <td>13950.0</td>\n",
       "    </tr>\n",
       "    <tr>\n",
       "      <th>4</th>\n",
       "      <td>4</td>\n",
       "      <td>audi</td>\n",
       "      <td>sedan</td>\n",
       "      <td>99.4</td>\n",
       "      <td>176.6</td>\n",
       "      <td>ohc</td>\n",
       "      <td>5</td>\n",
       "      <td>115</td>\n",
       "      <td>18</td>\n",
       "      <td>17450.0</td>\n",
       "    </tr>\n",
       "  </tbody>\n",
       "</table>\n",
       "</div>"
      ],
      "text/plain": [
       "   index      company   body-style  wheel-base  length engine-type  \\\n",
       "0      0  alfa-romero  convertible        88.6   168.8        dohc   \n",
       "1      1  alfa-romero  convertible        88.6   168.8        dohc   \n",
       "2      2  alfa-romero    hatchback        94.5   171.2        ohcv   \n",
       "3      3         audi        sedan        99.8   176.6         ohc   \n",
       "4      4         audi        sedan        99.4   176.6         ohc   \n",
       "\n",
       "   num-of-cylinders  horsepower  average-mileage    price  \n",
       "0                 4         111               21  13495.0  \n",
       "1                 4         111               21  16500.0  \n",
       "2                 6         154               19  16500.0  \n",
       "3                 4         102               24  13950.0  \n",
       "4                 5         115               18  17450.0  "
      ]
     },
     "execution_count": 44,
     "metadata": {},
     "output_type": "execute_result"
    }
   ],
   "source": [
    "df1[\"num-of-cylinders\"] = df1[[\"num-of-cylinders\"]].applymap(lambda x: w2n.word_to_num(x))\n",
    "df1.head()"
   ]
  },
  {
   "cell_type": "code",
   "execution_count": 45,
   "metadata": {},
   "outputs": [],
   "source": [
    "def target_encoding(data, column, target_column):\n",
    "    mean_index = data.groupby(column)[target_column].mean().sort_values(ascending= False).index\n",
    "    labels = {b:a for a,b in enumerate(mean_index, 0)}\n",
    "    data[column] = data[column].map(labels)"
   ]
  },
  {
   "cell_type": "code",
   "execution_count": 46,
   "metadata": {},
   "outputs": [],
   "source": [
    "target_encoding(df1,\"company\",\"price\")\n",
    "target_encoding(df1,\"body-style\",\"price\")\n",
    "target_encoding(df1,\"engine-type\",\"price\")"
   ]
  },
  {
   "cell_type": "code",
   "execution_count": 47,
   "metadata": {},
   "outputs": [
    {
     "data": {
      "text/html": [
       "<div>\n",
       "<style scoped>\n",
       "    .dataframe tbody tr th:only-of-type {\n",
       "        vertical-align: middle;\n",
       "    }\n",
       "\n",
       "    .dataframe tbody tr th {\n",
       "        vertical-align: top;\n",
       "    }\n",
       "\n",
       "    .dataframe thead th {\n",
       "        text-align: right;\n",
       "    }\n",
       "</style>\n",
       "<table border=\"1\" class=\"dataframe\">\n",
       "  <thead>\n",
       "    <tr style=\"text-align: right;\">\n",
       "      <th></th>\n",
       "      <th>index</th>\n",
       "      <th>company</th>\n",
       "      <th>body-style</th>\n",
       "      <th>wheel-base</th>\n",
       "      <th>length</th>\n",
       "      <th>engine-type</th>\n",
       "      <th>num-of-cylinders</th>\n",
       "      <th>horsepower</th>\n",
       "      <th>average-mileage</th>\n",
       "      <th>price</th>\n",
       "    </tr>\n",
       "  </thead>\n",
       "  <tbody>\n",
       "    <tr>\n",
       "      <th>0</th>\n",
       "      <td>0</td>\n",
       "      <td>5</td>\n",
       "      <td>1</td>\n",
       "      <td>88.6</td>\n",
       "      <td>168.8</td>\n",
       "      <td>2</td>\n",
       "      <td>4</td>\n",
       "      <td>111</td>\n",
       "      <td>21</td>\n",
       "      <td>13495.0</td>\n",
       "    </tr>\n",
       "    <tr>\n",
       "      <th>1</th>\n",
       "      <td>1</td>\n",
       "      <td>5</td>\n",
       "      <td>1</td>\n",
       "      <td>88.6</td>\n",
       "      <td>168.8</td>\n",
       "      <td>2</td>\n",
       "      <td>4</td>\n",
       "      <td>111</td>\n",
       "      <td>21</td>\n",
       "      <td>16500.0</td>\n",
       "    </tr>\n",
       "    <tr>\n",
       "      <th>2</th>\n",
       "      <td>2</td>\n",
       "      <td>5</td>\n",
       "      <td>4</td>\n",
       "      <td>94.5</td>\n",
       "      <td>171.2</td>\n",
       "      <td>1</td>\n",
       "      <td>6</td>\n",
       "      <td>154</td>\n",
       "      <td>19</td>\n",
       "      <td>16500.0</td>\n",
       "    </tr>\n",
       "    <tr>\n",
       "      <th>3</th>\n",
       "      <td>3</td>\n",
       "      <td>4</td>\n",
       "      <td>2</td>\n",
       "      <td>99.8</td>\n",
       "      <td>176.6</td>\n",
       "      <td>3</td>\n",
       "      <td>4</td>\n",
       "      <td>102</td>\n",
       "      <td>24</td>\n",
       "      <td>13950.0</td>\n",
       "    </tr>\n",
       "    <tr>\n",
       "      <th>4</th>\n",
       "      <td>4</td>\n",
       "      <td>4</td>\n",
       "      <td>2</td>\n",
       "      <td>99.4</td>\n",
       "      <td>176.6</td>\n",
       "      <td>3</td>\n",
       "      <td>5</td>\n",
       "      <td>115</td>\n",
       "      <td>18</td>\n",
       "      <td>17450.0</td>\n",
       "    </tr>\n",
       "  </tbody>\n",
       "</table>\n",
       "</div>"
      ],
      "text/plain": [
       "   index  company  body-style  wheel-base  length  engine-type  \\\n",
       "0      0        5           1        88.6   168.8            2   \n",
       "1      1        5           1        88.6   168.8            2   \n",
       "2      2        5           4        94.5   171.2            1   \n",
       "3      3        4           2        99.8   176.6            3   \n",
       "4      4        4           2        99.4   176.6            3   \n",
       "\n",
       "   num-of-cylinders  horsepower  average-mileage    price  \n",
       "0                 4         111               21  13495.0  \n",
       "1                 4         111               21  16500.0  \n",
       "2                 6         154               19  16500.0  \n",
       "3                 4         102               24  13950.0  \n",
       "4                 5         115               18  17450.0  "
      ]
     },
     "execution_count": 47,
     "metadata": {},
     "output_type": "execute_result"
    }
   ],
   "source": [
    "df1.head()"
   ]
  },
  {
   "cell_type": "code",
   "execution_count": 48,
   "metadata": {},
   "outputs": [],
   "source": [
    "df1.drop(\"index\", axis = 1, inplace = True)"
   ]
  },
  {
   "cell_type": "code",
   "execution_count": 49,
   "metadata": {},
   "outputs": [
    {
     "data": {
      "text/html": [
       "<div>\n",
       "<style scoped>\n",
       "    .dataframe tbody tr th:only-of-type {\n",
       "        vertical-align: middle;\n",
       "    }\n",
       "\n",
       "    .dataframe tbody tr th {\n",
       "        vertical-align: top;\n",
       "    }\n",
       "\n",
       "    .dataframe thead th {\n",
       "        text-align: right;\n",
       "    }\n",
       "</style>\n",
       "<table border=\"1\" class=\"dataframe\">\n",
       "  <thead>\n",
       "    <tr style=\"text-align: right;\">\n",
       "      <th></th>\n",
       "      <th>company</th>\n",
       "      <th>body-style</th>\n",
       "      <th>wheel-base</th>\n",
       "      <th>length</th>\n",
       "      <th>engine-type</th>\n",
       "      <th>num-of-cylinders</th>\n",
       "      <th>horsepower</th>\n",
       "      <th>average-mileage</th>\n",
       "      <th>price</th>\n",
       "    </tr>\n",
       "  </thead>\n",
       "  <tbody>\n",
       "    <tr>\n",
       "      <th>0</th>\n",
       "      <td>5</td>\n",
       "      <td>1</td>\n",
       "      <td>88.6</td>\n",
       "      <td>168.8</td>\n",
       "      <td>2</td>\n",
       "      <td>4</td>\n",
       "      <td>111</td>\n",
       "      <td>21</td>\n",
       "      <td>13495.0</td>\n",
       "    </tr>\n",
       "    <tr>\n",
       "      <th>1</th>\n",
       "      <td>5</td>\n",
       "      <td>1</td>\n",
       "      <td>88.6</td>\n",
       "      <td>168.8</td>\n",
       "      <td>2</td>\n",
       "      <td>4</td>\n",
       "      <td>111</td>\n",
       "      <td>21</td>\n",
       "      <td>16500.0</td>\n",
       "    </tr>\n",
       "    <tr>\n",
       "      <th>2</th>\n",
       "      <td>5</td>\n",
       "      <td>4</td>\n",
       "      <td>94.5</td>\n",
       "      <td>171.2</td>\n",
       "      <td>1</td>\n",
       "      <td>6</td>\n",
       "      <td>154</td>\n",
       "      <td>19</td>\n",
       "      <td>16500.0</td>\n",
       "    </tr>\n",
       "    <tr>\n",
       "      <th>3</th>\n",
       "      <td>4</td>\n",
       "      <td>2</td>\n",
       "      <td>99.8</td>\n",
       "      <td>176.6</td>\n",
       "      <td>3</td>\n",
       "      <td>4</td>\n",
       "      <td>102</td>\n",
       "      <td>24</td>\n",
       "      <td>13950.0</td>\n",
       "    </tr>\n",
       "    <tr>\n",
       "      <th>4</th>\n",
       "      <td>4</td>\n",
       "      <td>2</td>\n",
       "      <td>99.4</td>\n",
       "      <td>176.6</td>\n",
       "      <td>3</td>\n",
       "      <td>5</td>\n",
       "      <td>115</td>\n",
       "      <td>18</td>\n",
       "      <td>17450.0</td>\n",
       "    </tr>\n",
       "  </tbody>\n",
       "</table>\n",
       "</div>"
      ],
      "text/plain": [
       "   company  body-style  wheel-base  length  engine-type  num-of-cylinders  \\\n",
       "0        5           1        88.6   168.8            2                 4   \n",
       "1        5           1        88.6   168.8            2                 4   \n",
       "2        5           4        94.5   171.2            1                 6   \n",
       "3        4           2        99.8   176.6            3                 4   \n",
       "4        4           2        99.4   176.6            3                 5   \n",
       "\n",
       "   horsepower  average-mileage    price  \n",
       "0         111               21  13495.0  \n",
       "1         111               21  16500.0  \n",
       "2         154               19  16500.0  \n",
       "3         102               24  13950.0  \n",
       "4         115               18  17450.0  "
      ]
     },
     "execution_count": 49,
     "metadata": {},
     "output_type": "execute_result"
    }
   ],
   "source": [
    "df1.head()"
   ]
  },
  {
   "cell_type": "code",
   "execution_count": 21,
   "metadata": {},
   "outputs": [
    {
     "data": {
      "text/plain": [
       "array([[  0. ,   5. ,   1. ,  88.6, 168.8,   2. ,   4. , 111. ,  21. ],\n",
       "       [  1. ,   5. ,   1. ,  88.6, 168.8,   2. ,   4. , 111. ,  21. ],\n",
       "       [  2. ,   5. ,   4. ,  94.5, 171.2,   1. ,   6. , 154. ,  19. ],\n",
       "       [  3. ,   4. ,   2. ,  99.8, 176.6,   3. ,   4. , 102. ,  24. ],\n",
       "       [  4. ,   4. ,   2. ,  99.4, 176.6,   3. ,   5. , 115. ,  18. ],\n",
       "       [  5. ,   4. ,   2. ,  99.8, 177.3,   3. ,   5. , 110. ,  19. ],\n",
       "       [  6. ,   4. ,   3. , 105.8, 192.7,   3. ,   5. , 110. ,  19. ],\n",
       "       [  9. ,   3. ,   2. , 101.2, 176.8,   3. ,   4. , 101. ,  23. ],\n",
       "       [ 10. ,   3. ,   2. , 101.2, 176.8,   3. ,   4. , 101. ,  23. ],\n",
       "       [ 11. ,   3. ,   2. , 101.2, 176.8,   3. ,   6. , 121. ,  21. ],\n",
       "       [ 13. ,   3. ,   2. , 103.5, 189. ,   3. ,   6. , 182. ,  16. ],\n",
       "       [ 14. ,   3. ,   2. , 103.5, 193.8,   3. ,   6. , 182. ,  16. ],\n",
       "       [ 15. ,   3. ,   2. , 110. , 197. ,   3. ,   6. , 182. ,  15. ],\n",
       "       [ 16. ,  15. ,   4. ,  88.4, 141.1,   5. ,   3. ,  48. ,  47. ],\n",
       "       [ 17. ,  15. ,   4. ,  94.5, 155.9,   3. ,   4. ,  70. ,  38. ],\n",
       "       [ 18. ,  15. ,   2. ,  94.5, 158.8,   3. ,   4. ,  70. ,  38. ],\n",
       "       [ 19. ,  14. ,   4. ,  93.7, 157.3,   3. ,   4. ,  68. ,  31. ],\n",
       "       [ 20. ,  14. ,   4. ,  93.7, 157.3,   3. ,   4. ,  68. ,  31. ],\n",
       "       [ 27. ,   7. ,   3. ,  96.5, 157.1,   3. ,   4. ,  76. ,  30. ],\n",
       "       [ 28. ,   7. ,   2. ,  96.5, 175.4,   3. ,   4. , 101. ,  24. ],\n",
       "       [ 29. ,   7. ,   2. ,  96.5, 169.1,   3. ,   4. , 100. ,  25. ],\n",
       "       [ 30. ,  12. ,   2. ,  94.3, 170.7,   3. ,   4. ,  78. ,  24. ],\n",
       "       [ 33. ,   2. ,   2. , 113. , 199.6,   2. ,   6. , 176. ,  15. ],\n",
       "       [ 34. ,   2. ,   2. , 113. , 199.6,   2. ,   6. , 176. ,  15. ],\n",
       "       [ 35. ,   2. ,   2. , 102. , 191.7,   1. ,  12. , 262. ,  13. ],\n",
       "       [ 36. ,   8. ,   4. ,  93.1, 159.1,   3. ,   4. ,  68. ,  30. ],\n",
       "       [ 37. ,   8. ,   4. ,  93.1, 159.1,   3. ,   4. ,  68. ,  31. ],\n",
       "       [ 38. ,   8. ,   4. ,  93.1, 159.1,   3. ,   4. ,  68. ,  31. ],\n",
       "       [ 39. ,   8. ,   4. ,  95.3, 169. ,   4. ,   2. , 101. ,  17. ],\n",
       "       [ 43. ,   8. ,   2. , 104.9, 175. ,   3. ,   4. ,  72. ,  31. ],\n",
       "       [ 44. ,   1. ,   2. , 110. , 190.9,   3. ,   5. , 123. ,  22. ],\n",
       "       [ 45. ,   1. ,   3. , 110. , 190.9,   3. ,   5. , 123. ,  22. ],\n",
       "       [ 46. ,   1. ,   2. , 120.9, 208.1,   1. ,   8. , 184. ,  14. ],\n",
       "       [ 47. ,   1. ,   0. , 112. , 199.2,   1. ,   8. , 184. ,  14. ],\n",
       "       [ 49. ,  13. ,   4. ,  93.7, 157.3,   3. ,   4. ,  68. ,  37. ],\n",
       "       [ 50. ,  13. ,   4. ,  93.7, 157.3,   3. ,   4. ,  68. ,  31. ],\n",
       "       [ 51. ,  13. ,   2. ,  96.3, 172.4,   3. ,   4. ,  88. ,  25. ],\n",
       "       [ 52. ,  13. ,   2. ,  96.3, 172.4,   3. ,   4. ,  88. ,  25. ],\n",
       "       [ 53. ,  10. ,   2. ,  94.5, 165.3,   3. ,   4. ,  55. ,  45. ],\n",
       "       [ 54. ,  10. ,   2. ,  94.5, 165.3,   3. ,   4. ,  69. ,  31. ],\n",
       "       [ 55. ,  10. ,   2. ,  94.5, 165.3,   3. ,   4. ,  69. ,  31. ],\n",
       "       [ 56. ,  10. ,   3. ,  94.5, 170.2,   3. ,   4. ,  69. ,  31. ],\n",
       "       [ 57. ,  10. ,   2. , 100.4, 184.6,   1. ,   6. , 152. ,  19. ],\n",
       "       [ 61. ,   0. ,   0. ,  89.5, 168.9,   0. ,   6. , 207. ,  17. ],\n",
       "       [ 62. ,   0. ,   1. ,  89.5, 168.9,   0. ,   6. , 207. ,  17. ],\n",
       "       [ 66. ,  11. ,   4. ,  95.7, 158.7,   3. ,   4. ,  62. ,  35. ],\n",
       "       [ 67. ,  11. ,   4. ,  95.7, 158.7,   3. ,   4. ,  62. ,  31. ],\n",
       "       [ 68. ,  11. ,   4. ,  95.7, 158.7,   3. ,   4. ,  62. ,  31. ],\n",
       "       [ 69. ,  11. ,   3. ,  95.7, 169.7,   3. ,   4. ,  62. ,  31. ],\n",
       "       [ 70. ,  11. ,   3. ,  95.7, 169.7,   3. ,   4. ,  62. ,  27. ],\n",
       "       [ 71. ,  11. ,   3. ,  95.7, 169.7,   3. ,   4. ,  62. ,  27. ],\n",
       "       [ 79. ,  11. ,   3. , 104.5, 187.8,   2. ,   6. , 156. ,  19. ],\n",
       "       [ 80. ,   9. ,   2. ,  97.3, 171.7,   3. ,   4. ,  52. ,  37. ],\n",
       "       [ 81. ,   9. ,   2. ,  97.3, 171.7,   3. ,   4. ,  85. ,  27. ],\n",
       "       [ 82. ,   9. ,   2. ,  97.3, 171.7,   3. ,   4. ,  52. ,  37. ],\n",
       "       [ 86. ,   9. ,   2. ,  97.3, 171.7,   3. ,   4. , 100. ,  26. ],\n",
       "       [ 87. ,   6. ,   2. , 104.3, 188.8,   3. ,   4. , 114. ,  23. ],\n",
       "       [ 88. ,   6. ,   3. , 104.3, 188.8,   3. ,   4. , 114. ,  23. ]])"
      ]
     },
     "execution_count": 21,
     "metadata": {},
     "output_type": "execute_result"
    }
   ],
   "source": [
    "\n",
    "X = df1.iloc[:, :-1].values\n",
    "X"
   ]
  },
  {
   "cell_type": "code",
   "execution_count": 22,
   "metadata": {},
   "outputs": [
    {
     "data": {
      "text/plain": [
       "array([13495., 16500., 16500., 13950., 17450., 15250., 18920., 16430.,\n",
       "       16925., 20970., 30760., 41315., 36880.,  5151.,  6295.,  6575.,\n",
       "        6377.,  6229.,  7295., 12945., 10345.,  6785., 32250., 35550.,\n",
       "       36000.,  5195.,  6095.,  6795., 11845., 18344., 25552., 28248.,\n",
       "       40960., 45400.,  5389.,  6189.,  6989.,  8189.,  7099.,  6649.,\n",
       "        6849.,  7349., 13499., 34028., 37028.,  5348.,  6338.,  6488.,\n",
       "        6918.,  7898.,  8778., 15750.,  7775.,  7975.,  7995.,  9995.,\n",
       "       12940., 13415.])"
      ]
     },
     "execution_count": 22,
     "metadata": {},
     "output_type": "execute_result"
    }
   ],
   "source": [
    "y = df1.iloc[:, -1].values\n",
    "y"
   ]
  },
  {
   "cell_type": "code",
   "execution_count": 24,
   "metadata": {},
   "outputs": [],
   "source": [
    "from sklearn.model_selection import train_test_split"
   ]
  },
  {
   "cell_type": "code",
   "execution_count": 25,
   "metadata": {},
   "outputs": [],
   "source": [
    "X_train, X_test, y_train, y_test = train_test_split(X, y, random_state= 0, test_size= 0.2)"
   ]
  },
  {
   "cell_type": "code",
   "execution_count": 26,
   "metadata": {},
   "outputs": [],
   "source": [
    "from sklearn.linear_model import LinearRegression"
   ]
  },
  {
   "cell_type": "code",
   "execution_count": 27,
   "metadata": {},
   "outputs": [],
   "source": [
    "lin = LinearRegression()"
   ]
  },
  {
   "cell_type": "code",
   "execution_count": 28,
   "metadata": {},
   "outputs": [
    {
     "data": {
      "text/plain": [
       "LinearRegression()"
      ]
     },
     "execution_count": 28,
     "metadata": {},
     "output_type": "execute_result"
    }
   ],
   "source": [
    "lin.fit(X_train , y_train)"
   ]
  },
  {
   "cell_type": "code",
   "execution_count": 29,
   "metadata": {},
   "outputs": [],
   "source": [
    "y_pred = lin.predict(X_test)"
   ]
  },
  {
   "cell_type": "code",
   "execution_count": 30,
   "metadata": {},
   "outputs": [],
   "source": [
    "from sklearn.metrics import mean_absolute_error, mean_squared_error, r2_score"
   ]
  },
  {
   "cell_type": "code",
   "execution_count": 31,
   "metadata": {},
   "outputs": [
    {
     "data": {
      "text/plain": [
       "34442975.947294384"
      ]
     },
     "execution_count": 31,
     "metadata": {},
     "output_type": "execute_result"
    }
   ],
   "source": [
    "mean_squared_error(y_test, y_pred)"
   ]
  },
  {
   "cell_type": "code",
   "execution_count": 32,
   "metadata": {},
   "outputs": [
    {
     "data": {
      "text/plain": [
       "4158.8370887631145"
      ]
     },
     "execution_count": 32,
     "metadata": {},
     "output_type": "execute_result"
    }
   ],
   "source": [
    "mean_absolute_error(y_test, y_pred)"
   ]
  },
  {
   "cell_type": "code",
   "execution_count": 33,
   "metadata": {},
   "outputs": [
    {
     "data": {
      "text/plain": [
       "0.8262200001591188"
      ]
     },
     "execution_count": 33,
     "metadata": {},
     "output_type": "execute_result"
    }
   ],
   "source": [
    "r2_score(y_test, y_pred)"
   ]
  },
  {
   "cell_type": "markdown",
   "metadata": {},
   "source": [
    "EXPICITLY CODING MULTIPLE LINEAR REGRESSION"
   ]
  },
  {
   "cell_type": "code",
   "execution_count": 50,
   "metadata": {},
   "outputs": [],
   "source": [
    "class Linear_Regression:\n",
    "\n",
    "    def __init__(self):\n",
    "        self.coef = None\n",
    "        self.intercept = None\n",
    "    \n",
    "    def fit (self, X_train, y_train):\n",
    "        X_train = np.insert(X_train, 0, 1, axis = 1)\n",
    "        Betas = np.linalg.inv(np.dot(X_train.T, X_train)).dot(X_train.T).dot(y_train)\n",
    "        self.coef = Betas[1:]\n",
    "        self.intercept = Betas[0]\n",
    "\n",
    "    def coeff_(self):\n",
    "        return self.coef\n",
    "    \n",
    "    def intercept_ (self):\n",
    "        return self.intercept\n",
    "\n",
    "    def predict (self, X_test):\n",
    "        return np.dot(X_test, self.coef) + self.intercept"
   ]
  },
  {
   "cell_type": "code",
   "execution_count": 51,
   "metadata": {},
   "outputs": [],
   "source": [
    "Linear = Linear_Regression()"
   ]
  },
  {
   "cell_type": "code",
   "execution_count": 52,
   "metadata": {},
   "outputs": [],
   "source": [
    "Linear.fit(X_train, y_train)"
   ]
  },
  {
   "cell_type": "code",
   "execution_count": 53,
   "metadata": {},
   "outputs": [],
   "source": [
    "y_pred = Linear.predict(X_test)"
   ]
  },
  {
   "cell_type": "code",
   "execution_count": 54,
   "metadata": {},
   "outputs": [
    {
     "data": {
      "text/plain": [
       "34442975.94728508"
      ]
     },
     "execution_count": 54,
     "metadata": {},
     "output_type": "execute_result"
    }
   ],
   "source": [
    "mean_squared_error(y_test, y_pred)"
   ]
  },
  {
   "cell_type": "code",
   "execution_count": 55,
   "metadata": {},
   "outputs": [
    {
     "data": {
      "text/plain": [
       "4158.837088762531"
      ]
     },
     "execution_count": 55,
     "metadata": {},
     "output_type": "execute_result"
    }
   ],
   "source": [
    "mean_absolute_error(y_test, y_pred)"
   ]
  },
  {
   "cell_type": "code",
   "execution_count": 56,
   "metadata": {},
   "outputs": [
    {
     "data": {
      "text/plain": [
       "0.8262200001591657"
      ]
     },
     "execution_count": 56,
     "metadata": {},
     "output_type": "execute_result"
    }
   ],
   "source": [
    "r2_score(y_test, y_pred)"
   ]
  }
 ],
 "metadata": {
  "interpreter": {
   "hash": "b3ba2566441a7c06988d0923437866b63cedc61552a5af99d1f4fb67d367b25f"
  },
  "kernelspec": {
   "display_name": "Python 3.9.7 ('base')",
   "language": "python",
   "name": "python3"
  },
  "language_info": {
   "codemirror_mode": {
    "name": "ipython",
    "version": 3
   },
   "file_extension": ".py",
   "mimetype": "text/x-python",
   "name": "python",
   "nbconvert_exporter": "python",
   "pygments_lexer": "ipython3",
   "version": "3.9.7"
  },
  "orig_nbformat": 4
 },
 "nbformat": 4,
 "nbformat_minor": 2
}
